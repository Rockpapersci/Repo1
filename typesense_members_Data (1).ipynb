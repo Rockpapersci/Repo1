{
  "nbformat": 4,
  "nbformat_minor": 0,
  "metadata": {
    "colab": {
      "name": "typesense-members-Data.ipynb",
      "provenance": [],
      "collapsed_sections": []
    },
    "kernelspec": {
      "name": "python3",
      "display_name": "Python 3"
    },
    "language_info": {
      "name": "python"
    }
  },
  "cells": [
    {
      "cell_type": "code",
      "source": [
        "#Mount Google drive\n",
        "from google.colab import drive\n",
        "drive.mount('/content/drive')"
      ],
      "metadata": {
        "id": "2JT2PdT_0Jri",
        "colab": {
          "base_uri": "https://localhost:8080/"
        },
        "outputId": "abec1ea3-9635-46ca-b618-0398b29d14c0"
      },
      "execution_count": null,
      "outputs": [
        {
          "output_type": "stream",
          "name": "stdout",
          "text": [
            "Mounted at /content/drive\n"
          ]
        }
      ]
    },
    {
      "cell_type": "code",
      "execution_count": null,
      "metadata": {
        "id": "Qcn-zf6JtQt-"
      },
      "outputs": [],
      "source": [
        "import requests\n",
        "import json\n",
        "import os\n",
        "import numpy as np \n",
        "import pandas as pd\n"
      ]
    },
    {
      "cell_type": "code",
      "source": [
        "pip install typesense\n"
      ],
      "metadata": {
        "colab": {
          "base_uri": "https://localhost:8080/"
        },
        "id": "2i9TICActZp5",
        "outputId": "e77620ac-4945-4ab0-a1d5-ae9557005a90"
      },
      "execution_count": null,
      "outputs": [
        {
          "output_type": "stream",
          "name": "stdout",
          "text": [
            "Collecting typesense\n",
            "  Downloading typesense-0.13.1-py2.py3-none-any.whl (24 kB)\n",
            "Requirement already satisfied: requests in /usr/local/lib/python3.7/dist-packages (from typesense) (2.23.0)\n",
            "Requirement already satisfied: chardet<4,>=3.0.2 in /usr/local/lib/python3.7/dist-packages (from requests->typesense) (3.0.4)\n",
            "Requirement already satisfied: urllib3!=1.25.0,!=1.25.1,<1.26,>=1.21.1 in /usr/local/lib/python3.7/dist-packages (from requests->typesense) (1.24.3)\n",
            "Requirement already satisfied: idna<3,>=2.5 in /usr/local/lib/python3.7/dist-packages (from requests->typesense) (2.10)\n",
            "Requirement already satisfied: certifi>=2017.4.17 in /usr/local/lib/python3.7/dist-packages (from requests->typesense) (2021.10.8)\n",
            "Installing collected packages: typesense\n",
            "Successfully installed typesense-0.13.1\n"
          ]
        }
      ]
    },
    {
      "cell_type": "code",
      "source": [
        "# Path to directory containing excel files\n",
        "data_directory=\"/content/drive/MyDrive/Typesense\"\n",
        "\n",
        "#where to get the output\n",
        "output_file_path = os.path.join(data_directory,\"typesense-members-email.xlsx\")"
      ],
      "metadata": {
        "id": "RzFhm3zA3onK"
      },
      "execution_count": null,
      "outputs": []
    },
    {
      "cell_type": "code",
      "source": [
        "import typesense\n",
        "\n",
        "client = typesense.Client({\n",
        "  'nodes': [{\n",
        "    'host': 'iwrp1lqn43m2kx87p-1.a1.typesense.net',\n",
        "    'port':\"\",\n",
        "    'protocol': 'https'\n",
        "  }],\n",
        "  'api_key': 'eB82NdKT3wgHidDpgRGIXIgvc3AOnv1r',\n",
        "  'connection_timeout_seconds': 2\n",
        "})\n"
      ],
      "metadata": {
        "id": "dokMFdIhtcBJ"
      },
      "execution_count": null,
      "outputs": []
    },
    {
      "cell_type": "code",
      "source": [
        "#Retrieve a collection\n",
        "retrieve_response = client.collections['dinkan-dev-users-4'].retrieve()\n",
        "print(retrieve_response)"
      ],
      "metadata": {
        "colab": {
          "base_uri": "https://localhost:8080/"
        },
        "id": "jD2chor_teqe",
        "outputId": "64cb121d-9f07-4c17-b15c-34c09a794c82"
      },
      "execution_count": null,
      "outputs": [
        {
          "output_type": "stream",
          "name": "stdout",
          "text": [
            "{'created_at': 1642355462, 'default_sorting_field': 'latest_active', 'fields': [{'facet': True, 'index': True, 'name': 'project_id', 'optional': False, 'type': 'int64'}, {'facet': False, 'index': True, 'name': 'github_name', 'optional': True, 'type': 'string'}, {'facet': False, 'index': True, 'name': 'twitter_name', 'optional': True, 'type': 'string'}, {'facet': False, 'index': True, 'name': 'aviyel_name', 'optional': True, 'type': 'string'}, {'facet': False, 'index': True, 'name': 'github_username', 'optional': True, 'type': 'string'}, {'facet': False, 'index': True, 'name': 'twitter_username', 'optional': True, 'type': 'string'}, {'facet': False, 'index': True, 'name': 'aviyel_username', 'optional': True, 'type': 'string'}, {'facet': False, 'index': True, 'name': 'github_email', 'optional': True, 'type': 'string'}, {'facet': False, 'index': True, 'name': 'twitter_email', 'optional': True, 'type': 'string'}, {'facet': False, 'index': True, 'name': 'aviyel_email', 'optional': True, 'type': 'string'}, {'facet': True, 'index': True, 'name': 'github_org_belong_ids', 'optional': True, 'type': 'int64[]'}, {'facet': True, 'index': True, 'name': 'github_org_belong_names', 'optional': True, 'type': 'string[]'}, {'facet': False, 'index': True, 'name': 'github_first_active', 'optional': True, 'type': 'int64'}, {'facet': False, 'index': True, 'name': 'github_latest_active', 'optional': True, 'type': 'int64'}, {'facet': False, 'index': True, 'name': 'twitter_latest_active', 'optional': True, 'type': 'int64'}, {'facet': False, 'index': True, 'name': 'github_started_at', 'optional': True, 'type': 'int64'}, {'facet': False, 'index': True, 'name': 'twitter_started_at', 'optional': True, 'type': 'int64'}, {'facet': False, 'index': True, 'name': 'aviyel_started_at', 'optional': True, 'type': 'int64'}, {'facet': False, 'index': True, 'name': 'github_contributions_count', 'optional': True, 'type': 'int64'}, {'facet': False, 'index': True, 'name': 'aviyel_contributions_count', 'optional': True, 'type': 'int64'}, {'facet': False, 'index': True, 'name': 'twitter_contributions_count', 'optional': True, 'type': 'int64'}, {'facet': False, 'index': True, 'name': 'started_at', 'optional': True, 'type': 'int64'}, {'facet': False, 'index': True, 'name': 'contributions_count', 'optional': True, 'type': 'int64'}, {'facet': False, 'index': True, 'name': 'latest_active', 'optional': False, 'type': 'int64'}, {'facet': True, 'index': True, 'name': 'platforms', 'optional': False, 'type': 'string[]'}], 'name': 'dinkan-dev-users-4', 'num_documents': 97592, 'num_memory_shards': 4}\n"
          ]
        }
      ]
    },
    {
      "cell_type": "code",
      "source": [
        "fields= retrieve_response['fields']\n",
        "for d in fields:\n",
        "  print(d['name'])"
      ],
      "metadata": {
        "colab": {
          "base_uri": "https://localhost:8080/"
        },
        "id": "E5K5kb4Uthn8",
        "outputId": "357e13fe-381b-4670-f204-2b1e282c0b5e"
      },
      "execution_count": null,
      "outputs": [
        {
          "output_type": "stream",
          "name": "stdout",
          "text": [
            "project_id\n",
            "github_name\n",
            "twitter_name\n",
            "aviyel_name\n",
            "github_username\n",
            "twitter_username\n",
            "aviyel_username\n",
            "github_email\n",
            "twitter_email\n",
            "aviyel_email\n",
            "github_org_belong_ids\n",
            "github_org_belong_names\n",
            "github_first_active\n",
            "github_latest_active\n",
            "twitter_latest_active\n",
            "github_started_at\n",
            "twitter_started_at\n",
            "aviyel_started_at\n",
            "github_contributions_count\n",
            "aviyel_contributions_count\n",
            "twitter_contributions_count\n",
            "started_at\n",
            "contributions_count\n",
            "latest_active\n",
            "platforms\n"
          ]
        }
      ]
    },
    {
      "cell_type": "code",
      "source": [
        "#creating an empty dataframe\n",
        "\n",
        "df= pd.DataFrame(columns=[\"github_name\",\"github_emailID\"])\n",
        "print(df)"
      ],
      "metadata": {
        "colab": {
          "base_uri": "https://localhost:8080/"
        },
        "id": "mDMewUvQtk47",
        "outputId": "2b6b2f48-1953-4437-d045-6ddbd8c64f7f"
      },
      "execution_count": null,
      "outputs": [
        {
          "output_type": "stream",
          "name": "stdout",
          "text": [
            "Empty DataFrame\n",
            "Columns: [github_name, github_emailID]\n",
            "Index: []\n"
          ]
        }
      ]
    },
    {
      "cell_type": "code",
      "source": [
        "df.index"
      ],
      "metadata": {
        "colab": {
          "base_uri": "https://localhost:8080/"
        },
        "id": "WWTjv66J5J_F",
        "outputId": "ed63bc66-acd1-4058-eb36-0bae3027bca0"
      },
      "execution_count": null,
      "outputs": [
        {
          "output_type": "execute_result",
          "data": {
            "text/plain": [
              "Index([], dtype='object')"
            ]
          },
          "metadata": {},
          "execution_count": 94
        }
      ]
    },
    {
      "cell_type": "code",
      "source": [
        "#Filling the data in the dataframe from page 1 to 39\n",
        "\n",
        "for i in range(1,39,1):\n",
        "  documents=client.collections['dinkan-dev-users-4'].documents.search({\n",
        "        'q'         : '*',\n",
        "        'query_by'  : 'github_email',\n",
        "        'filter_by' : 'project_id:=43',\n",
        "        'page'  : i ,\n",
        "        'per_page'  : 250\n",
        "        })\n",
        "  user_details= documents['hits']\n",
        "  for j in range(250):\n",
        "    dict= user_details[j]\n",
        "    dict2= dict['document']\n",
        "    #print(dict2['github_name'])\n",
        "    #print(dict2['github_email'])\n",
        "    df.loc[len(df.index)]=[dict2['github_name'],dict2['github_email']]\n",
        "    \n",
        "    \n",
        "\n"
      ],
      "metadata": {
        "id": "ttBDNXkNuYee"
      },
      "execution_count": null,
      "outputs": []
    },
    {
      "cell_type": "code",
      "source": [
        "df.shape"
      ],
      "metadata": {
        "colab": {
          "base_uri": "https://localhost:8080/"
        },
        "id": "wg24Pp-lhmlV",
        "outputId": "ad5566b4-4239-4076-c88b-2f1b284acbee"
      },
      "execution_count": null,
      "outputs": [
        {
          "output_type": "execute_result",
          "data": {
            "text/plain": [
              "(9500, 2)"
            ]
          },
          "metadata": {},
          "execution_count": 96
        }
      ]
    },
    {
      "cell_type": "code",
      "source": [
        "#in total we have 9855 hits in the documents"
      ],
      "metadata": {
        "id": "gTp7hXTKCBmG"
      },
      "execution_count": null,
      "outputs": []
    },
    {
      "cell_type": "code",
      "source": [
        "#adding the data in dataframe(df) from the last page40\n",
        "\n",
        "documents=client.collections['dinkan-dev-users-4'].documents.search({\n",
        "        'q'         : '*',\n",
        "        'query_by'  : 'github_email',\n",
        "        'filter_by' : 'project_id:=43',\n",
        "        'page'  : 40 ,\n",
        "        'per_page'  : 245\n",
        "        })\n",
        "user_details= documents['hits']\n",
        "for j in range(245):\n",
        "  dict= user_details[j]\n",
        "  dict2= dict['document']\n",
        "  #print(dict2['github_name'])\n",
        "  #print(dict2['github_email'])\n",
        "  df.loc[len(df.index)]=[dict2['github_name'],dict2['github_email']] \n"
      ],
      "metadata": {
        "id": "CIXjZEmr3F3I"
      },
      "execution_count": null,
      "outputs": []
    },
    {
      "cell_type": "code",
      "source": [
        "df.shape\n",
        "  "
      ],
      "metadata": {
        "id": "aOT4agFFw5Ro",
        "colab": {
          "base_uri": "https://localhost:8080/"
        },
        "outputId": "301f301b-44aa-4fea-889e-4d9a2d7d9791"
      },
      "execution_count": null,
      "outputs": [
        {
          "output_type": "execute_result",
          "data": {
            "text/plain": [
              "(9745, 2)"
            ]
          },
          "metadata": {},
          "execution_count": 99
        }
      ]
    },
    {
      "cell_type": "code",
      "source": [
        "df.to_excel(output_file_path)"
      ],
      "metadata": {
        "id": "eUYtB4xLxm55"
      },
      "execution_count": null,
      "outputs": []
    },
    {
      "cell_type": "code",
      "source": [
        ""
      ],
      "metadata": {
        "id": "KEkweGoJl6Vk"
      },
      "execution_count": null,
      "outputs": []
    }
  ]
}